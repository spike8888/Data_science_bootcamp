{
  "nbformat": 4,
  "nbformat_minor": 0,
  "metadata": {
    "colab": {
      "name": "02_algebra_liniowa.ipynb",
      "provenance": [],
      "collapsed_sections": [],
      "authorship_tag": "ABX9TyMoftxMcCJAdrpTLJDZp/Sn",
      "include_colab_link": true
    },
    "kernelspec": {
      "name": "python3",
      "display_name": "Python 3"
    }
  },
  "cells": [
    {
      "cell_type": "markdown",
      "metadata": {
        "id": "view-in-github",
        "colab_type": "text"
      },
      "source": [
        "<a href=\"https://colab.research.google.com/github/spike8888/Data_science_bootcamp/blob/main/01_wprowadzenie/02_algebra_liniowa.ipynb\" target=\"_parent\"><img src=\"https://colab.research.google.com/assets/colab-badge.svg\" alt=\"Open In Colab\"/></a>"
      ]
    },
    {
      "cell_type": "code",
      "metadata": {
        "id": "P3gei3tT7IAb",
        "outputId": "68924c32-5eda-42b8-fba6-928da16f590b",
        "colab": {
          "base_uri": "https://localhost:8080/",
          "height": 35
        }
      },
      "source": [
        "import numpy as np\n",
        "np.__version__"
      ],
      "execution_count": 1,
      "outputs": [
        {
          "output_type": "execute_result",
          "data": {
            "application/vnd.google.colaboratory.intrinsic+json": {
              "type": "string"
            },
            "text/plain": [
              "'1.18.5'"
            ]
          },
          "metadata": {
            "tags": []
          },
          "execution_count": 1
        }
      ]
    },
    {
      "cell_type": "markdown",
      "metadata": {
        "id": "93c6vCGF7dKH"
      },
      "source": [
        "### Norma wektora, długość wektora w R^2"
      ]
    },
    {
      "cell_type": "code",
      "metadata": {
        "id": "rb5-tXM47TQj",
        "outputId": "4ceeece7-ee0f-4301-c108-4ac2bb8ad440",
        "colab": {
          "base_uri": "https://localhost:8080/",
          "height": 34
        }
      },
      "source": [
        "v1 = np.array([0, 4])\n",
        "v1"
      ],
      "execution_count": 2,
      "outputs": [
        {
          "output_type": "execute_result",
          "data": {
            "text/plain": [
              "array([0, 4])"
            ]
          },
          "metadata": {
            "tags": []
          },
          "execution_count": 2
        }
      ]
    },
    {
      "cell_type": "code",
      "metadata": {
        "id": "QtkDuIF37k9r",
        "outputId": "f25bef0b-6953-4c15-db37-4b872b53ea6a",
        "colab": {
          "base_uri": "https://localhost:8080/",
          "height": 34
        }
      },
      "source": [
        "# długość wektora\n",
        "np.linalg.norm(v1)"
      ],
      "execution_count": 3,
      "outputs": [
        {
          "output_type": "execute_result",
          "data": {
            "text/plain": [
              "4.0"
            ]
          },
          "metadata": {
            "tags": []
          },
          "execution_count": 3
        }
      ]
    },
    {
      "cell_type": "code",
      "metadata": {
        "id": "nqSWpk9o7pO1",
        "outputId": "4abedb59-732a-4697-8d45-167c1f89bbd7",
        "colab": {
          "base_uri": "https://localhost:8080/",
          "height": 34
        }
      },
      "source": [
        "v1 = np.array([-1, 4])\n",
        "v1"
      ],
      "execution_count": 4,
      "outputs": [
        {
          "output_type": "execute_result",
          "data": {
            "text/plain": [
              "array([-1,  4])"
            ]
          },
          "metadata": {
            "tags": []
          },
          "execution_count": 4
        }
      ]
    },
    {
      "cell_type": "code",
      "metadata": {
        "id": "MMst9uvT7yzF",
        "outputId": "f6b3d352-57ec-4aad-dd90-16864c64da9d",
        "colab": {
          "base_uri": "https://localhost:8080/",
          "height": 34
        }
      },
      "source": [
        "# długość wektora\n",
        "np.linalg.norm(v1)"
      ],
      "execution_count": 5,
      "outputs": [
        {
          "output_type": "execute_result",
          "data": {
            "text/plain": [
              "4.123105625617661"
            ]
          },
          "metadata": {
            "tags": []
          },
          "execution_count": 5
        }
      ]
    },
    {
      "cell_type": "markdown",
      "metadata": {
        "id": "bmVamKHV76Ih"
      },
      "source": [
        "### Norma euklidesowa w Rn"
      ]
    },
    {
      "cell_type": "code",
      "metadata": {
        "id": "UB1OlySt70ml",
        "outputId": "684d6fd0-7a9c-4d45-86c1-e8f362f13b89",
        "colab": {
          "base_uri": "https://localhost:8080/",
          "height": 34
        }
      },
      "source": [
        "# długość wektora 3D\n",
        "v2 = np.array([-10, 10, 13])\n",
        "np.linalg.norm(v2)"
      ],
      "execution_count": 6,
      "outputs": [
        {
          "output_type": "execute_result",
          "data": {
            "text/plain": [
              "19.209372712298546"
            ]
          },
          "metadata": {
            "tags": []
          },
          "execution_count": 6
        }
      ]
    },
    {
      "cell_type": "markdown",
      "metadata": {
        "id": "50EZ46Tt8VlA"
      },
      "source": [
        "### Odleglosc dwoch punktow na plaszczyznie"
      ]
    },
    {
      "cell_type": "code",
      "metadata": {
        "id": "0DKyQY958icN",
        "outputId": "0f619670-cbde-4d2a-d2d3-a2143b9b95c5",
        "colab": {
          "base_uri": "https://localhost:8080/",
          "height": 34
        }
      },
      "source": [
        "# ksztalt trojkata prostokatnego\n",
        "p = np.array([3, 0])\n",
        "q = np.array([0, 4])\n",
        "\n",
        "# dlugosc bedzie dlugoscia pierwiastka przeciwprostokatnej\n",
        "np.linalg.norm(p - q)"
      ],
      "execution_count": 7,
      "outputs": [
        {
          "output_type": "execute_result",
          "data": {
            "text/plain": [
              "5.0"
            ]
          },
          "metadata": {
            "tags": []
          },
          "execution_count": 7
        }
      ]
    },
    {
      "cell_type": "markdown",
      "metadata": {
        "id": "eZ8P0s3q8c2-"
      },
      "source": [
        "### Odleglosc dwoch punktow w przestrzeni Rn"
      ]
    },
    {
      "cell_type": "code",
      "metadata": {
        "id": "rKDz5jUx8GHs",
        "outputId": "4c867af7-6b8d-4ee4-9dde-e7f803c7f2cc",
        "colab": {
          "base_uri": "https://localhost:8080/",
          "height": 34
        }
      },
      "source": [
        "p = np.array([3, 0, 1])\n",
        "q = np.array([0, 4, 2])\n",
        "\n",
        "np.linalg.norm(p - q)"
      ],
      "execution_count": 8,
      "outputs": [
        {
          "output_type": "execute_result",
          "data": {
            "text/plain": [
              "5.0990195135927845"
            ]
          },
          "metadata": {
            "tags": []
          },
          "execution_count": 8
        }
      ]
    },
    {
      "cell_type": "markdown",
      "metadata": {
        "id": "itLtiUhW9rP4"
      },
      "source": [
        "### Mnożenie macierzy"
      ]
    },
    {
      "cell_type": "markdown",
      "metadata": {
        "id": "N7JiqOxq9m7W"
      },
      "source": [
        "A - macierz wymiaru m x n\n",
        "\n",
        "B - macierz wymiaru n x p\n",
        "\n",
        "C = AB\n",
        "\n",
        "C - macierz wymiaru m x p\n",
        "\n",
        "Aby móc pomnozyć dwie macierze liczba kolumn w lewej macierzy musi zgadzać się z liczbą wierszy prawej macierzy\n",
        "Mnożenie macierzy nie jest przemienne! Tzn AB != BA"
      ]
    },
    {
      "cell_type": "markdown",
      "metadata": {
        "id": "d3FPRJNA-qpN"
      },
      "source": [
        "### Przyklad 1"
      ]
    },
    {
      "cell_type": "code",
      "metadata": {
        "id": "O1WOHQ4EASz1",
        "outputId": "467361b6-a328-4f34-8358-93be71a6074d",
        "colab": {
          "base_uri": "https://localhost:8080/",
          "height": 102
        }
      },
      "source": [
        "X = np.array([[5, 3], [3, 9]])\n",
        "Y = np.array([[1], [-1]])\n",
        "print(X, '\\n')\n",
        "print(Y)"
      ],
      "execution_count": 9,
      "outputs": [
        {
          "output_type": "stream",
          "text": [
            "[[5 3]\n",
            " [3 9]] \n",
            "\n",
            "[[ 1]\n",
            " [-1]]\n"
          ],
          "name": "stdout"
        }
      ]
    },
    {
      "cell_type": "markdown",
      "metadata": {
        "id": "-mLeoVmDBbpU"
      },
      "source": [
        "X macierz 2x2\n",
        "\n",
        "Y macierz 2x1"
      ]
    },
    {
      "cell_type": "code",
      "metadata": {
        "id": "JuxYTfOiCGOi",
        "outputId": "82dfaf79-b23c-432f-e9f8-0ecc3f91c7e0",
        "colab": {
          "base_uri": "https://localhost:8080/",
          "height": 51
        }
      },
      "source": [
        "Z = X.dot(Y)\n",
        "Z"
      ],
      "execution_count": 10,
      "outputs": [
        {
          "output_type": "execute_result",
          "data": {
            "text/plain": [
              "array([[ 2],\n",
              "       [-6]])"
            ]
          },
          "metadata": {
            "tags": []
          },
          "execution_count": 10
        }
      ]
    },
    {
      "cell_type": "code",
      "metadata": {
        "id": "x4tyGNkhCOmM",
        "outputId": "c57ab0a3-1853-4400-dac9-38d911f21be7",
        "colab": {
          "base_uri": "https://localhost:8080/",
          "height": 34
        }
      },
      "source": [
        "Z.shape"
      ],
      "execution_count": 11,
      "outputs": [
        {
          "output_type": "execute_result",
          "data": {
            "text/plain": [
              "(2, 1)"
            ]
          },
          "metadata": {
            "tags": []
          },
          "execution_count": 11
        }
      ]
    },
    {
      "cell_type": "markdown",
      "metadata": {
        "id": "_lPM43f0Cdce"
      },
      "source": [
        "### Przyklad 2"
      ]
    },
    {
      "cell_type": "code",
      "metadata": {
        "id": "kWP-ZsOdCpEB",
        "outputId": "2906e35d-441e-47b4-c84b-d2fb7e409ab3",
        "colab": {
          "base_uri": "https://localhost:8080/",
          "height": 119
        }
      },
      "source": [
        "X = np.array([[2, -1, 3],\n",
        "              [3, 1, 0]])\n",
        "Y = np.array([[2, 1, -1],\n",
        "              [0, -1, 2],\n",
        "              [3, 2, 0]])\n",
        "\n",
        "print(X, '\\n')\n",
        "print(Y)"
      ],
      "execution_count": 12,
      "outputs": [
        {
          "output_type": "stream",
          "text": [
            "[[ 2 -1  3]\n",
            " [ 3  1  0]] \n",
            "\n",
            "[[ 2  1 -1]\n",
            " [ 0 -1  2]\n",
            " [ 3  2  0]]\n"
          ],
          "name": "stdout"
        }
      ]
    },
    {
      "cell_type": "markdown",
      "metadata": {
        "id": "YNu3AXE-C9Xb"
      },
      "source": [
        "X macierz 2x3\n",
        "\n",
        "Y macierz 3x3\n",
        "\n",
        "Z macierz 2x3"
      ]
    },
    {
      "cell_type": "code",
      "metadata": {
        "id": "HmkL7tFeDDq_",
        "outputId": "a6c75316-339a-4c25-b4d2-76b760e2b48b",
        "colab": {
          "base_uri": "https://localhost:8080/",
          "height": 51
        }
      },
      "source": [
        "np.dot(X, Y)"
      ],
      "execution_count": 13,
      "outputs": [
        {
          "output_type": "execute_result",
          "data": {
            "text/plain": [
              "array([[13,  9, -4],\n",
              "       [ 6,  2, -1]])"
            ]
          },
          "metadata": {
            "tags": []
          },
          "execution_count": 13
        }
      ]
    },
    {
      "cell_type": "markdown",
      "metadata": {
        "id": "pmxJ9l5zDTRy"
      },
      "source": [
        "### Wyznacznik macierzy"
      ]
    },
    {
      "cell_type": "code",
      "metadata": {
        "id": "4auKEVmmD_bO",
        "outputId": "629be2be-536c-4242-85a6-e9cef8cea4b0",
        "colab": {
          "base_uri": "https://localhost:8080/",
          "height": 34
        }
      },
      "source": [
        "A = np.array([[2, 4], [-1, 3]])\n",
        "np.linalg.det(A)"
      ],
      "execution_count": 17,
      "outputs": [
        {
          "output_type": "execute_result",
          "data": {
            "text/plain": [
              "9.999999999999998"
            ]
          },
          "metadata": {
            "tags": []
          },
          "execution_count": 17
        }
      ]
    },
    {
      "cell_type": "markdown",
      "metadata": {
        "id": "QPFQZ04AERvi"
      },
      "source": [
        "### Ślad macirzy"
      ]
    },
    {
      "cell_type": "code",
      "metadata": {
        "id": "Fq0HL99DEmIO",
        "outputId": "ad3019f3-b357-4e2a-bbba-0c9336b30368",
        "colab": {
          "base_uri": "https://localhost:8080/",
          "height": 34
        }
      },
      "source": [
        "A = np.array([[2, 4], [-1, 3]])\n",
        "np.trace(A)"
      ],
      "execution_count": 18,
      "outputs": [
        {
          "output_type": "execute_result",
          "data": {
            "text/plain": [
              "5"
            ]
          },
          "metadata": {
            "tags": []
          },
          "execution_count": 18
        }
      ]
    },
    {
      "cell_type": "markdown",
      "metadata": {
        "id": "W6VonZrdFFKa"
      },
      "source": [
        "### Macierz jednostkowa"
      ]
    },
    {
      "cell_type": "code",
      "metadata": {
        "id": "tdcgmhKnFLE3",
        "outputId": "7f802e09-e627-4cc3-ccf7-be97cd1f4462",
        "colab": {
          "base_uri": "https://localhost:8080/",
          "height": 102
        }
      },
      "source": [
        "np.eye(5, dtype='int')"
      ],
      "execution_count": 19,
      "outputs": [
        {
          "output_type": "execute_result",
          "data": {
            "text/plain": [
              "array([[1, 0, 0, 0, 0],\n",
              "       [0, 1, 0, 0, 0],\n",
              "       [0, 0, 1, 0, 0],\n",
              "       [0, 0, 0, 1, 0],\n",
              "       [0, 0, 0, 0, 1]])"
            ]
          },
          "metadata": {
            "tags": []
          },
          "execution_count": 19
        }
      ]
    },
    {
      "cell_type": "markdown",
      "metadata": {
        "id": "EcId2mDTFUPQ"
      },
      "source": [
        "### Macierz odwrotna"
      ]
    },
    {
      "cell_type": "code",
      "metadata": {
        "id": "OWl8Qot6FYL4",
        "outputId": "0541e69e-877c-4e24-d21e-5021ef5828a8",
        "colab": {
          "base_uri": "https://localhost:8080/",
          "height": 51
        }
      },
      "source": [
        "B = np.linalg.inv(A)\n",
        "B"
      ],
      "execution_count": 22,
      "outputs": [
        {
          "output_type": "execute_result",
          "data": {
            "text/plain": [
              "array([[ 0.3, -0.4],\n",
              "       [ 0.1,  0.2]])"
            ]
          },
          "metadata": {
            "tags": []
          },
          "execution_count": 22
        }
      ]
    },
    {
      "cell_type": "code",
      "metadata": {
        "id": "7AwWnyr1FkO1",
        "outputId": "15b0d9b4-591b-4fd9-de72-4c1c345f0006",
        "colab": {
          "base_uri": "https://localhost:8080/",
          "height": 51
        }
      },
      "source": [
        "np.set_printoptions(precision=None, suppress=True)\n",
        "np.dot(A, B)"
      ],
      "execution_count": 30,
      "outputs": [
        {
          "output_type": "execute_result",
          "data": {
            "text/plain": [
              "array([[1., 0.],\n",
              "       [0., 1.]])"
            ]
          },
          "metadata": {
            "tags": []
          },
          "execution_count": 30
        }
      ]
    },
    {
      "cell_type": "code",
      "metadata": {
        "id": "S03OkeLcFt-g",
        "outputId": "eb29e209-71d7-4c0c-f54e-ced8746f9641",
        "colab": {
          "base_uri": "https://localhost:8080/",
          "height": 51
        }
      },
      "source": [
        "np.dot(B, A)"
      ],
      "execution_count": 31,
      "outputs": [
        {
          "output_type": "execute_result",
          "data": {
            "text/plain": [
              "array([[ 1., -0.],\n",
              "       [ 0.,  1.]])"
            ]
          },
          "metadata": {
            "tags": []
          },
          "execution_count": 31
        }
      ]
    },
    {
      "cell_type": "markdown",
      "metadata": {
        "id": "w7dc8uKYIhL7"
      },
      "source": [
        "### Macierz transponowana"
      ]
    },
    {
      "cell_type": "code",
      "metadata": {
        "id": "-zejP1UVIktG",
        "outputId": "ee0cc1aa-5c36-4a27-e784-1a93470940df",
        "colab": {
          "base_uri": "https://localhost:8080/",
          "height": 51
        }
      },
      "source": [
        "A"
      ],
      "execution_count": 32,
      "outputs": [
        {
          "output_type": "execute_result",
          "data": {
            "text/plain": [
              "array([[ 2,  4],\n",
              "       [-1,  3]])"
            ]
          },
          "metadata": {
            "tags": []
          },
          "execution_count": 32
        }
      ]
    },
    {
      "cell_type": "code",
      "metadata": {
        "id": "ZLrE2KwrIvfM",
        "outputId": "185c385f-8806-4283-d6e3-13dbb706aa36",
        "colab": {
          "base_uri": "https://localhost:8080/",
          "height": 51
        }
      },
      "source": [
        "np.transpose(A)"
      ],
      "execution_count": 33,
      "outputs": [
        {
          "output_type": "execute_result",
          "data": {
            "text/plain": [
              "array([[ 2, -1],\n",
              "       [ 4,  3]])"
            ]
          },
          "metadata": {
            "tags": []
          },
          "execution_count": 33
        }
      ]
    },
    {
      "cell_type": "code",
      "metadata": {
        "id": "xguAQGK0IxwY",
        "outputId": "3152f23c-d010-486f-c16d-9ab8c2c9f57c",
        "colab": {
          "base_uri": "https://localhost:8080/",
          "height": 51
        }
      },
      "source": [
        "A.T"
      ],
      "execution_count": 34,
      "outputs": [
        {
          "output_type": "execute_result",
          "data": {
            "text/plain": [
              "array([[ 2, -1],\n",
              "       [ 4,  3]])"
            ]
          },
          "metadata": {
            "tags": []
          },
          "execution_count": 34
        }
      ]
    },
    {
      "cell_type": "markdown",
      "metadata": {
        "id": "el-S10IHI0bE"
      },
      "source": [
        "### Rozwiązywanie układów równań"
      ]
    },
    {
      "cell_type": "markdown",
      "metadata": {
        "id": "A_FOlxJaI-Gt"
      },
      "source": [
        "2x + 4y = 10\n",
        "\n",
        "x - y = -1\n",
        "\n",
        "Rozwiazanie:\n",
        "\n",
        "x = 1\n",
        "\n",
        "y = 2"
      ]
    },
    {
      "cell_type": "code",
      "metadata": {
        "id": "haVbJ_LwLR5m",
        "outputId": "bb249200-4022-4ca5-80bc-c8b7b3b0e87a",
        "colab": {
          "base_uri": "https://localhost:8080/",
          "height": 51
        }
      },
      "source": [
        "# macierz wspolczynnikow\n",
        "A = np.array([[2, 4], [1, -1]])\n",
        "print(A)"
      ],
      "execution_count": 36,
      "outputs": [
        {
          "output_type": "stream",
          "text": [
            "[[ 2  4]\n",
            " [ 1 -1]]\n"
          ],
          "name": "stdout"
        }
      ]
    },
    {
      "cell_type": "code",
      "metadata": {
        "id": "gmpKS3s5Lzb_",
        "outputId": "f5c2afe1-13d1-42e7-afa3-d97b5c8147c9",
        "colab": {
          "base_uri": "https://localhost:8080/",
          "height": 51
        }
      },
      "source": [
        "# macierz wyrazow wolnych\n",
        "B = np.array([[10], [-1]])\n",
        "print(B)"
      ],
      "execution_count": 38,
      "outputs": [
        {
          "output_type": "stream",
          "text": [
            "[[10]\n",
            " [-1]]\n"
          ],
          "name": "stdout"
        }
      ]
    },
    {
      "cell_type": "code",
      "metadata": {
        "id": "ypLa6dcUMBkX",
        "outputId": "ebe16def-6cb2-4c4b-e339-5b73fdd0c2b2",
        "colab": {
          "base_uri": "https://localhost:8080/",
          "height": 51
        }
      },
      "source": [
        "A_inv = np.linalg.inv(A)\n",
        "print(A_inv)"
      ],
      "execution_count": 39,
      "outputs": [
        {
          "output_type": "stream",
          "text": [
            "[[ 0.16666667  0.66666667]\n",
            " [ 0.16666667 -0.33333333]]\n"
          ],
          "name": "stdout"
        }
      ]
    },
    {
      "cell_type": "code",
      "metadata": {
        "id": "RiMBdnXtMKCp",
        "outputId": "f1febeed-2f21-47d8-9540-2343abcecd28",
        "colab": {
          "base_uri": "https://localhost:8080/",
          "height": 51
        }
      },
      "source": [
        "X = np.dot(A_inv, B)\n",
        "X"
      ],
      "execution_count": 40,
      "outputs": [
        {
          "output_type": "execute_result",
          "data": {
            "text/plain": [
              "array([[1.],\n",
              "       [2.]])"
            ]
          },
          "metadata": {
            "tags": []
          },
          "execution_count": 40
        }
      ]
    },
    {
      "cell_type": "code",
      "metadata": {
        "id": "nhzkp0rZMNt1",
        "outputId": "7ce43cbe-9a49-454f-874d-82e650e1a208",
        "colab": {
          "base_uri": "https://localhost:8080/",
          "height": 34
        }
      },
      "source": [
        "X.shape"
      ],
      "execution_count": 42,
      "outputs": [
        {
          "output_type": "execute_result",
          "data": {
            "text/plain": [
              "(2, 1)"
            ]
          },
          "metadata": {
            "tags": []
          },
          "execution_count": 42
        }
      ]
    },
    {
      "cell_type": "code",
      "metadata": {
        "id": "XXwdIEBhMPUN"
      },
      "source": [
        ""
      ],
      "execution_count": null,
      "outputs": []
    }
  ]
}